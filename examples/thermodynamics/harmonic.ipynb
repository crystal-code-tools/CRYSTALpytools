{
 "cells": [
  {
   "cell_type": "markdown",
   "id": "0efe7c6c-1941-46c0-b8c5-3b0bbeb97ac1",
   "metadata": {},
   "source": [
    "# Lattice Dynamics 1: Harmonic Approximation\n",
    "\n",
    "The `thermodynamics` module is developed for both harmonic approximated (HA) and quasi-harmonic approximated (QHA) lattice dynamics. For simplicity, this part is focused only on HA phonons. For QHA, please refer to [Lattice Dynamics 2: Quasi-Harmonic Approximation](qha.ipynb) example book in the same catagory. For phonon band and density of states, please refer to the [phonons module](https://crystal-code-tools.github.io/CRYSTALpytools/crystalpytools.phonons.html).\n",
    "\n",
    "## Instantiation\n",
    "\n",
    "No data is read at the object instantiation step. Instead, important controlling parameters are defined.\n",
    "\n",
    "Define the room temperature and pressure with `temperature` and `pressure` (optional) and specify whether to write data into an output file (`filename`) and whether to automatically run the calculation (`autocalc`)"
   ]
  },
  {
   "cell_type": "code",
   "execution_count": 1,
   "id": "d29181f4-724a-4d21-af51-a2fa6cee3e29",
   "metadata": {},
   "outputs": [],
   "source": [
    "from CRYSTALpytools.thermodynamics import Harmonic\n",
    "\n",
    "obj = Harmonic(filename='ha_paracetamolG.txt', autocalc=False,\n",
    "               temperature=[298.15], pressure=[0.10132500E-3])"
   ]
  },
  {
   "cell_type": "markdown",
   "id": "6220e530-91ca-4663-9ae0-6160781050b3",
   "metadata": {},
   "source": [
    "## File I/O\n",
    "\n",
    "Currently the user can read geometries, internal energies, phonon frequencies, eigenvectors from CRYSTAL or [phonopy](https://phonopy.github.io/phonopy/) (not internal energies). CRYSTALpytools helps to calculate important thermodynamic properties at specified temperature and pressure.\n",
    "\n",
    "### The 'from_file()' method.\n",
    "\n",
    "Please note that the `get_phonon()` method defined in `crystal_io.Crystal_output` is a general-propose method designed to be called (in most cases) internally. Users are always recommended to use the `from_file()` method after instantiation.\n",
    "\n",
    "Call the `thermodynamics()` method after reading data. Temperature and pressure can also be specified here."
   ]
  },
  {
   "cell_type": "code",
   "execution_count": 2,
   "id": "c984e89e-e0ee-4974-8113-612eaf7b794d",
   "metadata": {},
   "outputs": [
    {
     "name": "stdout",
     "output_type": "stream",
     "text": [
      "Number of q / k points: 1\n",
      "Number of modes at Gamma: 240\n",
      "The first non-translational mode frequnecy at Gamma: 1.0304 THz\n"
     ]
    }
   ],
   "source": [
    "obj.from_file('ha_paracetamolG.out')\n",
    "\n",
    "print('Number of q / k points: {:d}'.format(obj.nqpoint))\n",
    "print('Number of modes at Gamma: {:d}'.format(obj.nmode[0]))\n",
    "print('The first non-translational mode frequnecy at Gamma: {:.4f} THz'.format(\n",
    "    obj.frequency[0, 3]))"
   ]
  },
  {
   "cell_type": "markdown",
   "id": "059ab76c-019f-41fb-9cc0-7ac70335bbee",
   "metadata": {},
   "source": [
    "This method also accepts outputs by 'QHA' keyword of CRYSTAL. `qha_index` should be specified to substract the desired data (starting from 0).\n",
    "\n",
    "Get the equilibrium geometry of QHA calculation of Al$_{2}$O$_{3}$."
   ]
  },
  {
   "cell_type": "code",
   "execution_count": 3,
   "id": "53a31cc1-616e-47a1-984b-7a7c2a61caad",
   "metadata": {},
   "outputs": [
    {
     "name": "stdout",
     "output_type": "stream",
     "text": [
      "Number of q / k points: 1\n",
      "Number of modes at Gamma: 90\n",
      "The first non-translational mode frequnecy at Gamma: 4.4021 THz\n"
     ]
    },
    {
     "name": "stderr",
     "output_type": "stream",
     "text": [
      "/home/huanyu/apps/anaconda3/envs/crystal_py3.9/lib/python3.9/site-packages/CRYSTALpytools/thermodynamics.py:379: UserWarning: QHA output found, reading the 3 HA calculation from file.\n",
      "  warnings.warn(\"QHA output found, reading the {:d} HA calculation from file.\".format(qha_index))\n"
     ]
    }
   ],
   "source": [
    "from CRYSTALpytools.thermodynamics import Harmonic\n",
    "\n",
    "obj = Harmonic(filename=None, autocalc=False).from_file('qha_corundumG.out',\n",
    "                                                        qha_index=3)\n",
    "print('Number of q / k points: {:d}'.format(obj.nqpoint))\n",
    "print('Number of modes at Gamma: {:d}'.format(obj.nmode[0]))\n",
    "print('The first non-translational mode frequnecy at Gamma: {:.4f} THz'.format(\n",
    "    obj.frequency[0, 3]))"
   ]
  },
  {
   "cell_type": "markdown",
   "id": "6fdd62f5-7fd6-47ec-92ac-597e628d2c5b",
   "metadata": {},
   "source": [
    "Also might be useful to read phonon dispersions in the first Brillouin Zone for a better description of thermodynamics."
   ]
  },
  {
   "cell_type": "code",
   "execution_count": 4,
   "id": "7511f19a-757f-4ad4-90ec-b3203b74f20a",
   "metadata": {},
   "outputs": [
    {
     "name": "stderr",
     "output_type": "stream",
     "text": [
      "/home/huanyu/apps/anaconda3/envs/crystal_py3.9/lib/python3.9/site-packages/CRYSTALpytools/thermodynamics.py:556: UserWarning: Negative frequencies detected.\n",
      "  Calculated thermodynamics might be inaccurate. Negative frequencies will be substituted by 0.\n",
      "  self = PhononBASE.clean_imaginary(self, threshold=imaginary_tol)\n"
     ]
    },
    {
     "name": "stdout",
     "output_type": "stream",
     "text": [
      "Number of q / k points: 216\n",
      "Number of modes at Gamma: 240\n",
      "The first non-translational mode frequnecy at Gamma: 1.2303 THz\n"
     ]
    }
   ],
   "source": [
    "from CRYSTALpytools.thermodynamics import Harmonic\n",
    "\n",
    "obj = Harmonic(filename=None, autocalc=False).from_file('ha_paracetamolDisp.out')\n",
    "print('Number of q / k points: {:d}'.format(obj.nqpoint))\n",
    "print('Number of modes at Gamma: {:d}'.format(obj.nmode[0]))\n",
    "print('The first non-translational mode frequnecy at Gamma: {:.4f} THz'.format(\n",
    "    obj.frequency[0, 3]))"
   ]
  },
  {
   "cell_type": "markdown",
   "id": "084d4f1c-ea58-40eb-a546-c74e803f81e6",
   "metadata": {},
   "source": [
    "### The 'from_phonopy()' method\n",
    "\n",
    "Output files of phonopy  calculations in 'yaml' format are accepted. Use `phono_yaml` for frequency files ('band.yaml' or 'qpoint.yaml') and `struc_yaml` for geometry ('phonopy.yaml' or 'phonopy_disp.yaml').\n",
    "\n",
    "DFT total energy is unknown, so it is important to specified that. A warning message is triggered in the following case.\n",
    "\n",
    "**NOTE**\n",
    "\n",
    "[Phonopy](https://phonopy.github.io/phonopy/) is not in the dependency list of CRYSTALpytools."
   ]
  },
  {
   "cell_type": "code",
   "execution_count": 5,
   "id": "d25b993d-1af6-4d30-89dc-e73f1ddb86c4",
   "metadata": {},
   "outputs": [
    {
     "name": "stderr",
     "output_type": "stream",
     "text": [
      "/home/huanyu/apps/anaconda3/envs/crystal_py3.9/lib/python3.9/site-packages/CRYSTALpytools/thermodynamics.py:468: UserWarning: DFT energy is set to 0.\n",
      "  warnings.warn('DFT energy is set to 0.')\n"
     ]
    },
    {
     "name": "stdout",
     "output_type": "stream",
     "text": [
      "Number of q / k points: 1\n",
      "Number of modes at Gamma: 240\n",
      "The first non-translational mode frequnecy at Gamma: 1.0301 THz\n"
     ]
    }
   ],
   "source": [
    "from CRYSTALpytools.thermodynamics import Harmonic\n",
    "\n",
    "obj = Harmonic(filename=None, autocalc=False).from_phonopy(\n",
    "    'ha_freq.yaml', 'ha_struc.yaml')\n",
    "\n",
    "print('Number of q / k points: {:d}'.format(obj.nqpoint))\n",
    "print('Number of modes at Gamma: {:d}'.format(obj.nmode[0]))\n",
    "print('The first non-translational mode frequnecy at Gamma: {:.4f} THz'.format(\n",
    "    obj.frequency[0, 3]))"
   ]
  },
  {
   "cell_type": "markdown",
   "id": "5c32b5a4-30c8-423f-9200-fed26fe2aa09",
   "metadata": {},
   "source": [
    "### The 'Phonopy.write_force_constants' method\n",
    "\n",
    "The numerical Hessian is printed out in a formatted 'HESSFREQ.DAT' file by CRYSTAL, which can be converted into a Phonopy FORCE_CONSTANTS file by the `thermodynamics.Phonopy.write_force_constants()` method and used by phonopy in future analysis.\n",
    "\n",
    "**NOTE**\n",
    "\n",
    "[Phonopy](https://phonopy.github.io/phonopy/) is not in the dependency list of CRYSTALpytools."
   ]
  },
  {
   "cell_type": "code",
   "execution_count": 6,
   "id": "97f77ef7-92c0-4624-a77d-21aaaecab6d2",
   "metadata": {},
   "outputs": [],
   "source": [
    "from CRYSTALpytools.thermodynamics import Phonopy\n",
    "\n",
    "Phonopy.write_force_constants(hessfile='ha_paracetamolG.HESSFREQ',\n",
    "                              phonopyfile='FORCE_CONSTANTS')\n",
    "# call phonopy\n",
    "! phonopy --crystal --qpoints='0 0 0' -c ha_paracetamolG.out --dim='1 1 1' --readfc > /dev/null 2>&1"
   ]
  },
  {
   "cell_type": "markdown",
   "id": "7900975e-8ed0-4a17-a31a-354444064b82",
   "metadata": {},
   "source": [
    "Frequencies are computed by phonopy in the 'qpoints.yaml' file of the same directory.\n",
    "\n",
    "## Thermodynamics\n",
    "\n",
    "### Gamma point\n",
    "\n",
    "Call the `thermodynamics()` method after reading data. Temperature and pressure can also be specified here if not specified at instantiation stage."
   ]
  },
  {
   "cell_type": "code",
   "execution_count": 7,
   "id": "c72047e9-c216-4e73-92b8-8aee3d7ba28c",
   "metadata": {},
   "outputs": [
    {
     "name": "stdout",
     "output_type": "stream",
     "text": [
      "DFT total energy (EL) =  -5402456.254965135 KJ/mol\n",
      "Helmholtz free energy (EL+E0+ET-TS) =  -5400800.797249377  KJ/mol\n",
      "Gibbs free energy (EL+E0+ET+pV-TS) =  -5400800.7512229495  KJ/mol\n",
      "Zero-point energy (E0) =  1759.100392885878  KJ/mol\n",
      "Vibrational contribution to interla energy - E0 (ET) =  107.20364114600739  KJ/mol\n",
      "Entropy*Temperature (TS) =  210846.31827405942  J/mol\n",
      "Heat capacity =  665.5752603999974  J/mol*K\n",
      "Entropy =  707.1820166830771  J/mol*K\n"
     ]
    }
   ],
   "source": [
    "from CRYSTALpytools.thermodynamics import Harmonic\n",
    "\n",
    "obj = Harmonic(filename=None, autocalc=False, temperature=[298.15],\n",
    "               pressure=[0.10132500E-3])\n",
    "obj.from_file('ha_paracetamolG.out').thermodynamics()\n",
    "\n",
    "print('DFT total energy (EL) = ', obj.edft, 'KJ/mol')\n",
    "print('Helmholtz free energy (EL+E0+ET-TS) = ', obj.helmholtz[0, 0], ' KJ/mol')\n",
    "print('Gibbs free energy (EL+E0+ET+pV-TS) = ', obj.gibbs[0, 0, 0], ' KJ/mol')\n",
    "print('Zero-point energy (E0) = ', obj.zp_energy[0], ' KJ/mol')\n",
    "print('Vibrational contribution to interla energy - E0 (ET) = ', obj.u_vib[0, 0] - obj.zp_energy[0], ' KJ/mol')\n",
    "print('Entropy*Temperature (TS) = ', obj.entropy[0, 0] * 298.15, ' J/mol')\n",
    "print('Heat capacity = ', obj.c_v[0, 0], ' J/mol*K')\n",
    "print('Entropy = ', obj.entropy[0, 0], ' J/mol*K')"
   ]
  },
  {
   "cell_type": "markdown",
   "id": "10afa46c-b145-4a81-96bc-2cf481ab5c1a",
   "metadata": {},
   "source": [
    "References from 'ha_paracetamolG.out' (line 11703~11738) are attached below. Here are several findings:\n",
    "\n",
    "1. Parameters from frequencies agree well with reference data. The choice of physical constants and different unit conversion coefficients might lead to the discrepancy, where the physical constants play a major role (See below).  \n",
    "2. The difference in DFT total energy lies in different coefficients for unit conversion. In CRYSTALpytools, constants from [`scipy.constants`](https://docs.scipy.org/doc/scipy/reference/constants.html) is used.  \n",
    "3. The PV term is neglected at room condition. Helmholtz free energy is the focus of this tutorial since the Harmonic class was initially developed for QHA fittings. To calculate Gibbs free energy at HA level, use this equation: $G(T,p) = F(T) + pV$\n",
    "\n",
    "```\n",
    " *******************************************************************************\n",
    "\n",
    " HARMONIC VIBRATIONAL CONTRIBUTIONS TO THERMODYNAMIC FUNCTIONS AT GIVEN\n",
    " TEMPERATURE AND PRESSURE:\n",
    "\n",
    " (EL = ELECTRONIC ENERGY\n",
    "  E0 = ZERO-POINT ENERGY\n",
    "  ET = THERMAL CONTRIBUTION TO THE VIBRATIONAL ENERGY\n",
    "  PV = PRESSURE * VOLUME\n",
    "  TS = TEMPERATURE * ENTROPY)\n",
    "\n",
    "                          AU/CELL             EV/CELL                 KJ/MOL\n",
    " EL            :   -2057.686915559598  -55992.507576455653    -5402456.23545757\n",
    " E0            :       0.670005954735      18.231788914567        1759.10038625\n",
    "\n",
    "\n",
    " *******************************************************************************\n",
    "\n",
    " THERMODYNAMIC FUNCTIONS WITH VIBRATIONAL CONTRIBUTIONS\n",
    "\n",
    " AT (T =  298.15 K, P =   0.10132500E+00 MPA):\n",
    "\n",
    "                          AU/CELL             EV/CELL                 KJ/MOL\n",
    " ET            :       0.040831798552       1.111089725297         107.20387199\n",
    " PV            :       0.000017530544       0.000477030356           0.04602644\n",
    " TS            :       0.080307302905       2.185272809177         210.84679406\n",
    " ET+PV-TS      :      -0.039457973810      -1.073706053524        -103.59689564\n",
    " EL+E0+ET+PV-TS:   -2057.056367578673  -55975.349493594607    -5400800.73196695\n",
    "\n",
    " OTHER THERMODYNAMIC FUNCTIONS:\n",
    "\n",
    "                      mHARTREE/(CELL*K)     mEV/(CELL*K)              J/(MOL*K)\n",
    " ENTROPY       :       0.269352013769       7.329440916241         707.18361249\n",
    " HEAT CAPACITY :       0.253504784422       6.898215882635         665.57671770\n",
    "\n",
    " *******************************************************************************\n",
    "```\n"
   ]
  },
  {
   "cell_type": "markdown",
   "id": "a27ce612-abcf-498c-9ad8-1da605fb80f6",
   "metadata": {},
   "source": [
    "### Dispersion\n",
    "\n",
    "Similarly, get thermodynamic properties from phonon dispersion calculations. Properties at q points are summed according to their weights. The output data is written in the output file 'thermo_paracetamolDisp.txt'.\n",
    "\n",
    "Note that negative frequencies are all in the translational modes. If more than 3 negative frequencies are found at the same q point, another warning message will be given."
   ]
  },
  {
   "cell_type": "code",
   "execution_count": 8,
   "id": "5f55547c-671e-47c0-9c0f-608099d2165b",
   "metadata": {},
   "outputs": [
    {
     "data": {
      "text/plain": [
       "<CRYSTALpytools.thermodynamics.Harmonic at 0x7f078f3b9f40>"
      ]
     },
     "execution_count": 8,
     "metadata": {},
     "output_type": "execute_result"
    }
   ],
   "source": [
    "from CRYSTALpytools.thermodynamics import Harmonic\n",
    "import numpy as np\n",
    "\n",
    "obj = Harmonic(filename='ha_paracetamolDisp.txt', autocalc=False,\n",
    "               temperature=np.linspace(0, 300, 11), pressure=np.linspace(0, 1, 5))\n",
    "obj.from_file('ha_paracetamolDisp.out').thermodynamics()"
   ]
  },
  {
   "cell_type": "markdown",
   "id": "76b5ad58-fa1c-4456-a4e9-5534ba94df77",
   "metadata": {},
   "source": [
    "For more details, please refer to the [API documentations](https://crystal-code-tools.github.io/CRYSTALpytools/crystalpytools.thermodynamics.html)."
   ]
  }
 ],
 "metadata": {
  "kernelspec": {
   "display_name": "crystal_py3.9",
   "language": "python",
   "name": "crystal_py3.9"
  },
  "language_info": {
   "codemirror_mode": {
    "name": "ipython",
    "version": 3
   },
   "file_extension": ".py",
   "mimetype": "text/x-python",
   "name": "python",
   "nbconvert_exporter": "python",
   "pygments_lexer": "ipython3",
   "version": "3.9.19"
  },
  "widgets": {
   "application/vnd.jupyter.widget-state+json": {
    "state": {},
    "version_major": 2,
    "version_minor": 0
   }
  }
 },
 "nbformat": 4,
 "nbformat_minor": 5
}
