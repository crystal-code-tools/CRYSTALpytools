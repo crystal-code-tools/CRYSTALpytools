{
 "cells": [
  {
   "cell_type": "markdown",
   "id": "68158073",
   "metadata": {},
   "source": [
    "# File / Class Conversion\n",
    "\n",
    "Examples are given for conversion between CRYSTALpytools classes and external classes. Functions tested here are defined in the `convert` module.\n",
    "\n",
    "## CRYSTAL <-> pymatgen\n",
    "\n",
    "### The 'cry_out2pmg()' function\n",
    "\n",
    "`cry_out2pmg()` converts a CRYSTAL output file into a pymatgen Structure/Molecule object, which is different from the `crystal_io.Crystal_ouput.get_geometry()` method, where the `geometry.CStructure` class is returned.\n",
    "\n",
    "Get the optimized geometry of MgO."
   ]
  },
  {
   "cell_type": "code",
   "execution_count": 1,
   "id": "814523e2",
   "metadata": {
    "scrolled": true,
    "tags": []
   },
   "outputs": [
    {
     "name": "stdout",
     "output_type": "stream",
     "text": [
      "Full Formula (Mg1 O1)\n",
      "Reduced Formula: MgO\n",
      "abc   :   2.998288   2.998288   2.998288\n",
      "angles:  60.000000  60.000000  60.000000\n",
      "pbc   :       True       True       True\n",
      "Sites (2)\n",
      "  #  SP      a    b     c\n",
      "---  ----  ---  ---  ----\n",
      "  0  Mg    0    0     0\n",
      "  1  O     0.5  0.5  -0.5\n"
     ]
    }
   ],
   "source": [
    "from CRYSTALpytools.convert import cry_out2pmg\n",
    "\n",
    "struc = cry_out2pmg('conv_mgoOpt.out',initial=False)\n",
    "print(struc)"
   ]
  },
  {
   "cell_type": "markdown",
   "id": "ec732f6d-60e7-4e99-9da7-6569b2a4af96",
   "metadata": {},
   "source": [
    "Get a Molecule class for CO."
   ]
  },
  {
   "cell_type": "code",
   "execution_count": 2,
   "id": "674d2d86-e7aa-4222-bd4e-1392eb023566",
   "metadata": {},
   "outputs": [
    {
     "name": "stdout",
     "output_type": "stream",
     "text": [
      "Full Formula (C1 O1)\n",
      "Reduced Formula: CO\n",
      "Charge = 0.0, Spin Mult = 1\n",
      "Sites (2)\n",
      "0 C    -0.063726    -0.039829    -0.031863\n",
      "1 O     0.863726     0.539829     0.431863\n"
     ]
    }
   ],
   "source": [
    "from CRYSTALpytools.convert import cry_out2pmg\n",
    "\n",
    "struc = cry_out2pmg('conv_coOpt.out',initial=False, molecule=True)\n",
    "print(struc)"
   ]
  },
  {
   "cell_type": "markdown",
   "id": "ac0cd5f3",
   "metadata": {},
   "source": [
    "### The 'cry_gui2pmg' function\n",
    "\n",
    "`cry_gui2pmg()` converts a CRYSTAL GUI (fort.34) file into a pymatgen Structure/Molecule object.\n",
    "\n",
    "**NOTE**\n",
    "\n",
    "Currently, symmetry information of GUI class is lost during conversion."
   ]
  },
  {
   "cell_type": "code",
   "execution_count": 3,
   "id": "802cbf93",
   "metadata": {
    "tags": []
   },
   "outputs": [
    {
     "name": "stdout",
     "output_type": "stream",
     "text": [
      "Full Formula (H36 C32 N4 O8)\n",
      "Reduced Formula: H9C8NO2\n",
      "abc   :   7.161425   9.265602  12.677166\n",
      "angles:  90.000000 116.348749  90.000000\n",
      "pbc   :       True       True       True\n",
      "Sites (80)\n",
      "  #  SP            a          b          c\n",
      "---  ----  ---------  ---------  ---------\n",
      "  0  O      0.05598    0.43021   -0.286803\n",
      "  1  O     -0.05598   -0.06979   -0.213197\n",
      "  2  O     -0.05598   -0.43021    0.286803\n",
      "  3  O      0.05598    0.06979    0.213197\n",
      "  4  O      0.453896  -0.002239   0.302393\n",
      "  5  O      0.546104   0.497761   0.197607\n",
      "  6  O     -0.453896   0.002239  -0.302393\n",
      "  7  O     -0.546104  -0.497761  -0.197607\n",
      "  8  N     -0.212129   0.043273   0.339866\n",
      "  9  N      0.212129  -0.456727   0.160134\n",
      " 10  N      0.212129  -0.043273  -0.339866\n",
      " 11  N     -0.212129   0.456727  -0.160134\n",
      " 12  C     -0.149616   0.137894   0.436285\n",
      " 13  C      0.149616  -0.362106   0.063715\n",
      " 14  C      0.149616  -0.137894  -0.436285\n",
      " 15  C     -0.149616   0.362106  -0.063715\n",
      " 16  C     -0.237476   0.141661  -0.485502\n",
      " 17  C      0.237476  -0.358339  -0.014498\n",
      " 18  C      0.237476  -0.141661   0.485502\n",
      " 19  C     -0.237476   0.358339   0.014498\n",
      " 20  C     -0.166071   0.239609  -0.393174\n",
      " 21  C      0.166071  -0.260391  -0.106826\n",
      " 22  C      0.166071  -0.239609   0.393174\n",
      " 23  C     -0.166071   0.260391   0.106826\n",
      " 24  C     -0.004707   0.33468   -0.376123\n",
      " 25  C      0.004707  -0.16532   -0.123877\n",
      " 26  C      0.004707  -0.33468    0.376123\n",
      " 27  C     -0.004707   0.16532    0.123877\n",
      " 28  C      0.086433   0.328413  -0.452801\n",
      " 29  C     -0.086433  -0.171587  -0.047199\n",
      " 30  C     -0.086433  -0.328413   0.452801\n",
      " 31  C      0.086433   0.171587   0.047199\n",
      " 32  C      0.014023   0.231484   0.4547\n",
      " 33  C     -0.014023  -0.268516   0.0453\n",
      " 34  C     -0.014023  -0.231484  -0.4547\n",
      " 35  C      0.014023   0.268516  -0.0453\n",
      " 36  C      0.600808  -0.017228   0.277576\n",
      " 37  C      0.399192   0.482772   0.222424\n",
      " 38  C     -0.600808   0.017228  -0.277576\n",
      " 39  C     -0.399192  -0.482772  -0.222424\n",
      " 40  C      0.581296  -0.106752   0.174364\n",
      " 41  C      0.418704   0.393248   0.325636\n",
      " 42  C     -0.581296   0.106752  -0.174364\n",
      " 43  C     -0.418704  -0.393248  -0.325636\n",
      " 44  H     -0.361418   0.069092  -0.494845\n",
      " 45  H      0.361418  -0.430908  -0.005155\n",
      " 46  H      0.361418  -0.069092   0.494845\n",
      " 47  H     -0.361418   0.430908   0.005155\n",
      " 48  H     -0.237356   0.240664  -0.333637\n",
      " 49  H      0.237356  -0.259336  -0.166363\n",
      " 50  H      0.237356  -0.240664   0.333637\n",
      " 51  H     -0.237356   0.259336   0.166363\n",
      " 52  H     -0.787752   0.400762  -0.441974\n",
      " 53  H     -0.212248  -0.099238  -0.058026\n",
      " 54  H      0.787752  -0.400762   0.441974\n",
      " 55  H      0.212248   0.099238   0.058026\n",
      " 56  H      0.086988   0.228584   0.396029\n",
      " 57  H     -0.086988  -0.271416   0.103971\n",
      " 58  H     -0.086988  -0.228584  -0.396029\n",
      " 59  H      0.086988   0.271416  -0.103971\n",
      " 60  H      0.195544   0.469876  -0.265796\n",
      " 61  H     -0.195544  -0.030124  -0.234204\n",
      " 62  H     -0.195544  -0.469876   0.265796\n",
      " 63  H      0.195544   0.030124   0.234204\n",
      " 64  H     -0.105395   0.028427   0.308708\n",
      " 65  H      0.105395  -0.471573   0.191292\n",
      " 66  H      0.105395  -0.028427  -0.308708\n",
      " 67  H     -0.105395   0.471573  -0.191292\n",
      " 68  H      0.433006  -0.085398   0.098483\n",
      " 69  H      0.566994   0.414602   0.401517\n",
      " 70  H     -0.433006   0.085398  -0.098483\n",
      " 71  H     -0.566994  -0.414602  -0.401517\n",
      " 72  H     -0.292847  -0.088761   0.149936\n",
      " 73  H      0.292847   0.411239   0.350064\n",
      " 74  H      0.292847   0.088761  -0.149936\n",
      " 75  H     -0.292847  -0.411239  -0.350064\n",
      " 76  H      0.580205  -0.220848   0.194754\n",
      " 77  H      0.419795   0.279152   0.305246\n",
      " 78  H     -0.580205   0.220848  -0.194754\n",
      " 79  H     -0.419795  -0.279152  -0.305246\n"
     ]
    }
   ],
   "source": [
    "from CRYSTALpytools.convert import cry_gui2pmg\n",
    "\n",
    "struc = cry_gui2pmg('conv_paracetamol.gui')\n",
    "print(struc)"
   ]
  },
  {
   "cell_type": "markdown",
   "id": "5e551681-ee66-4e65-a023-5b15aa0f0699",
   "metadata": {},
   "source": [
    "With the `vacuum` option, vacuum layer with the specified thickness is inserted along the non-periodic direction(s). The returned structure is 3D periodic. For non-periodic structures, set `vacuum=None`."
   ]
  },
  {
   "cell_type": "code",
   "execution_count": 4,
   "id": "bc49e0e3-f84f-4d29-9a9a-4f59dbe716be",
   "metadata": {},
   "outputs": [
    {
     "name": "stdout",
     "output_type": "stream",
     "text": [
      "Full Formula (Mg2 O4)\n",
      "Reduced Formula: MgO2\n",
      "abc   :   3.009789   3.009789  26.128240\n",
      "angles:  90.000000  90.000000  90.000000\n",
      "pbc   :       True       True       True\n",
      "Sites (6)\n",
      "  #  SP      a    b          c\n",
      "---  ----  ---  ---  ---------\n",
      "  0  Mg    0    0.5   0.040727\n",
      "  1  Mg    0.5  0    -0.040727\n",
      "  2  O     0    0.5  -0.040727\n",
      "  3  O     0.5  0     0.040727\n",
      "  4  O     0.5  0    -0.117272\n",
      "  5  O     0    0.5   0.117272\n"
     ]
    }
   ],
   "source": [
    "from CRYSTALpytools.convert import cry_gui2pmg\n",
    "\n",
    "struc = cry_gui2pmg('conv_mgo100.gui', vacuum=20)\n",
    "print(struc)"
   ]
  },
  {
   "cell_type": "markdown",
   "id": "933a782e-769d-4981-8962-93a600cb29c8",
   "metadata": {},
   "source": [
    "Alternatively, a 2D periodic structure is returned with default 500 Angstrom along non-periodic direction(s)."
   ]
  },
  {
   "cell_type": "code",
   "execution_count": 5,
   "id": "f92efcfc-8d2a-472d-98e4-2609fcddced9",
   "metadata": {},
   "outputs": [
    {
     "name": "stdout",
     "output_type": "stream",
     "text": [
      "Full Formula (Mg2 O4)\n",
      "Reduced Formula: MgO2\n",
      "abc   :   3.009789   3.009789 500.000000\n",
      "angles:  90.000000  90.000000  90.000000\n",
      "pbc   :       True       True      False\n",
      "Sites (6)\n",
      "  #  SP      a    b          c\n",
      "---  ----  ---  ---  ---------\n",
      "  0  Mg    0    0.5   0.002128\n",
      "  1  Mg    0.5  0    -0.002128\n",
      "  2  O     0    0.5  -0.002128\n",
      "  3  O     0.5  0     0.002128\n",
      "  4  O     0.5  0    -0.006128\n",
      "  5  O     0    0.5   0.006128\n"
     ]
    }
   ],
   "source": [
    "from CRYSTALpytools.convert import cry_gui2pmg\n",
    "\n",
    "struc = cry_gui2pmg('conv_mgo100.gui')\n",
    "print(struc)"
   ]
  },
  {
   "cell_type": "markdown",
   "id": "3fa9dd99",
   "metadata": {},
   "source": [
    "### The 'cry_pmg2gui()' function\n",
    "\n",
    "`cry_pmg2gui()` saves a pymatgen structure/molecule object into a CRYSTAL gui object and (optionally) writes it into a gui (fort.34) file.\n",
    "\n",
    "Setting `gui_file=None` (default) to disable gui file output\n",
    "\n",
    "**NOTE**\n",
    "\n",
    "Currently, symmetry analysis (`symmetry=True`) is limited to 3D and 2D cases."
   ]
  },
  {
   "cell_type": "code",
   "execution_count": 6,
   "id": "ce4f04fd",
   "metadata": {
    "tags": []
   },
   "outputs": [],
   "source": [
    "from CRYSTALpytools.crystal_io import Crystal_output\n",
    "from CRYSTALpytools.convert import cry_pmg2gui\n",
    "\n",
    "out = Crystal_output('conv_mgoOpt.out')\n",
    "struc = out.get_geometry(initial=False)\n",
    "struc.make_supercell([[-1, 1, 1], [1, -1, 1], [1, 1, -1]])\n",
    "\n",
    "mgo_gui = cry_pmg2gui(struc, gui_file='conv_mgoOpt.gui', symmetry=True)"
   ]
  },
  {
   "cell_type": "markdown",
   "id": "a9580133",
   "metadata": {},
   "source": [
    "### The 'cry_bands2pmg()'' function\n",
    "\n",
    "Essentially this is a short cut for `electronics.ElectronBand.to_pmg()` method.\n",
    "\n",
    "Read the band and plot."
   ]
  },
  {
   "cell_type": "code",
   "execution_count": 7,
   "id": "4be2730e",
   "metadata": {
    "tags": []
   },
   "outputs": [
    {
     "data": {
      "text/plain": [
       "<Axes: xlabel='$\\\\mathrm{Wave\\\\ Vector}$', ylabel='$\\\\mathrm{E\\\\ -\\\\ E_f\\\\ (eV)}$'>"
      ]
     },
     "execution_count": 7,
     "metadata": {},
     "output_type": "execute_result"
    },
    {
     "data": {
      "image/png": "[encoded data removed]",
      "text/plain": [
       "<Figure size 1200x800 with 1 Axes>"
      ]
     },
     "metadata": {},
     "output_type": "display_data"
    }
   ],
   "source": [
    "from CRYSTALpytools.convert import cry_bands2pmg\n",
    "from pymatgen.electronic_structure.plotter import BSPlotter\n",
    "\n",
    "bs = cry_bands2pmg('conv_mgoBand.BAND', 'conv_mgoBand.outp',\n",
    "                   labels=[r'$\\Gamma$','B','C',r'$\\Gamma$','E'])\n",
    "bsplot = BSPlotter(bs)\n",
    "bsplot.get_plot(ylim=(-10, 10), zero_to_efermi=True)"
   ]
  },
  {
   "cell_type": "markdown",
   "id": "485ff0ce",
   "metadata": {},
   "source": [
    "## CRYSTAL <-> ASE\n",
    "\n",
    "Fundamentally, CRYSTALpytools converts its classes to pymatgen classes and calls pymatgen to further convert them into other classes.\n",
    "\n",
    "### The 'cry_out2ase()' function"
   ]
  },
  {
   "cell_type": "code",
   "execution_count": 7,
   "id": "1031833c",
   "metadata": {
    "tags": []
   },
   "outputs": [
    {
     "name": "stdout",
     "output_type": "stream",
     "text": [
      "MSONAtoms(symbols='CO', pbc=False)\n"
     ]
    }
   ],
   "source": [
    "from CRYSTALpytools.convert import cry_out2ase\n",
    "\n",
    "co_ase = cry_out2ase('conv_coOpt.out', initial=True)\n",
    "print(co_ase)"
   ]
  },
  {
   "cell_type": "markdown",
   "id": "68f4732b-36df-4e35-8548-7af1daa43ea7",
   "metadata": {},
   "source": [
    "### The 'cry_gui2ase()' function\n",
    "\n",
    "Convert GUI file/class into ASE 'Atoms' class."
   ]
  },
  {
   "cell_type": "code",
   "execution_count": 8,
   "id": "e6f273ff",
   "metadata": {
    "tags": []
   },
   "outputs": [
    {
     "name": "stdout",
     "output_type": "stream",
     "text": [
      "MSONAtoms(symbols='Mg2O4', pbc=True, cell=[[3.00978870041, 0.0, 0.0], [-1.84296404903e-16, 3.00978870041, 0.0], [0.0, 0.0, 16.128239999999998]])\n"
     ]
    }
   ],
   "source": [
    "from CRYSTALpytools.convert import cry_gui2ase\n",
    "\n",
    "mgo_ase = cry_gui2ase('conv_mgo100.gui', vacuum=10)\n",
    "print(mgo_ase)"
   ]
  },
  {
   "cell_type": "markdown",
   "id": "27f3fedc",
   "metadata": {},
   "source": [
    "### The 'cry_ase2gui()' function\n",
    "Setting `gui_file=None` (default) to disable gui file output"
   ]
  },
  {
   "cell_type": "code",
   "execution_count": 9,
   "id": "6441e8bb",
   "metadata": {
    "tags": []
   },
   "outputs": [],
   "source": [
    "from CRYSTALpytools.convert import cry_ase2gui\n",
    "from ase.build import bulk\n",
    "\n",
    "copper_ase = bulk('Cu', 'fcc', a=3.6)\n",
    "copper_gui = cry_ase2gui(copper_ase, gui_file='conv_CuASE.gui', symmetry=True)"
   ]
  },
  {
   "cell_type": "markdown",
   "id": "d699562f",
   "metadata": {},
   "source": [
    "## Saving structure files (.cif and .xyz)\n",
    "\n",
    "### The 'cry_out2cif()' function\n",
    "Optional arguments can be put at the end, which will be passed to the [pymatgen.io.cif.CifWriter](https://pymatgen.org/pymatgen.io.html#pymatgen.io.cif.CifWriter) object.\n",
    "\n",
    "By default, symmetrized structure output is enabled with `symprec=0.01`."
   ]
  },
  {
   "cell_type": "code",
   "execution_count": 10,
   "id": "f9e89a5b",
   "metadata": {
    "tags": []
   },
   "outputs": [
    {
     "name": "stdout",
     "output_type": "stream",
     "text": [
      "# generated using pymatgen\n",
      "data_MgO2\n",
      "_symmetry_space_group_name_H-M   P4/nmm\n",
      "_cell_length_a   3.00978870\n",
      "_cell_length_b   3.00978870\n",
      "_cell_length_c   16.12824000\n",
      "_cell_angle_alpha   90.00000000\n",
      "_cell_angle_beta   90.00000000\n",
      "_cell_angle_gamma   90.00000000\n",
      "_symmetry_Int_Tables_number   129\n",
      "_chemical_formula_structural   MgO2\n",
      "_chemical_formula_sum   'Mg2 O4'\n",
      "_cell_volume   146.10295240\n",
      "_cell_formula_units_Z   2\n",
      "loop_\n",
      " _symmetry_equiv_pos_site_id\n",
      " _symmetry_equiv_pos_as_xyz\n",
      "  1  'x, y, z'\n",
      "  2  '-y+1/2, x+1/2, z'\n",
      "  3  '-x, -y, z'\n",
      "  4  'y+1/2, -x+1/2, z'\n",
      "  5  'x+1/2, -y+1/2, -z'\n",
      "  6  '-y, -x, -z'\n",
      "  7  '-x+1/2, y+1/2, -z'\n",
      "  8  'y, x, -z'\n",
      "  9  '-x+1/2, -y+1/2, -z'\n",
      "  10  'y, -x, -z'\n",
      "  11  'x+1/2, y+1/2, -z'\n",
      "  12  '-y, x, -z'\n",
      "  13  '-x, y, z'\n",
      "  14  'y+1/2, x+1/2, z'\n",
      "  15  'x, -y, z'\n",
      "  16  '-y+1/2, -x+1/2, z'\n",
      "loop_\n",
      " _atom_site_type_symbol\n",
      " _atom_site_label\n",
      " _atom_site_symmetry_multiplicity\n",
      " _atom_site_fract_x\n",
      " _atom_site_fract_y\n",
      " _atom_site_fract_z\n",
      " _atom_site_occupancy\n",
      "  Mg  Mg0  2  0.00000000  0.50000000  0.06597868  1\n",
      "  O  O1  2  0.00000000  0.50000000  0.18998477  1\n",
      "  O  O2  2  0.00000000  0.50000000  0.93402132  1\n"
     ]
    }
   ],
   "source": [
    "from CRYSTALpytools.convert import cry_out2cif\n",
    "\n",
    "cry_out2cif('conv_mgo100.out', 'conv_mgo100.cif', vacuum=10, initial=True)\n",
    "! cat conv_mgo100.cif"
   ]
  },
  {
   "cell_type": "markdown",
   "id": "861b65cd",
   "metadata": {},
   "source": [
    "### The 'cry_gui2cif()' function\n",
    "Optional arguments can be put at the end, which will be passed to the [pymatgen.io.cif.CifWriter](https://pymatgen.org/pymatgen.io.html#pymatgen.io.cif.CifWriter) object.\n",
    "\n",
    "By default, symmetrized structure output is enabled with `symprec=0.01`."
   ]
  },
  {
   "cell_type": "code",
   "execution_count": 11,
   "id": "8d70a5ef",
   "metadata": {
    "tags": []
   },
   "outputs": [
    {
     "name": "stdout",
     "output_type": "stream",
     "text": [
      "# generated using pymatgen\n",
      "data_H9C8NO2\n",
      "_symmetry_space_group_name_H-M   P2_1/c\n",
      "_cell_length_a   7.16142460\n",
      "_cell_length_b   9.26560241\n",
      "_cell_length_c   12.67716617\n",
      "_cell_angle_alpha   90.00000000\n",
      "_cell_angle_beta   116.34874858\n",
      "_cell_angle_gamma   90.00000000\n",
      "_symmetry_Int_Tables_number   14\n",
      "_chemical_formula_structural   H9C8NO2\n",
      "_chemical_formula_sum   'H36 C32 N4 O8'\n",
      "_cell_volume   753.80006344\n",
      "_cell_formula_units_Z   4\n",
      "loop_\n",
      " _symmetry_equiv_pos_site_id\n",
      " _symmetry_equiv_pos_as_xyz\n",
      "  1  'x, y, z'\n",
      "  2  '-x, -y, -z'\n",
      "  3  '-x, y+1/2, -z+1/2'\n",
      "  4  'x, -y+1/2, z+1/2'\n",
      "loop_\n",
      " _atom_site_type_symbol\n",
      " _atom_site_label\n",
      " _atom_site_symmetry_multiplicity\n",
      " _atom_site_fract_x\n",
      " _atom_site_fract_y\n",
      " _atom_site_fract_z\n",
      " _atom_site_occupancy\n",
      "  H  H0  4  0.08698795  0.22858371  0.39602925  1\n",
      "  H  H1  4  0.10539508  0.52842732  0.19129183  1\n",
      "  H  H2  4  0.19554393  0.03012373  0.23420412  1\n",
      "  H  H3  4  0.21224837  0.09923841  0.05802646  1\n",
      "  H  H4  4  0.23735644  0.74066371  0.83363740  1\n",
      "  H  H5  4  0.29284689  0.08876147  0.85006363  1\n",
      "  H  H6  4  0.36141848  0.56909239  0.99484488  1\n",
      "  H  H7  4  0.41979469  0.22084824  0.80524578  1\n",
      "  H  H8  4  0.43300640  0.58539849  0.59848256  1\n",
      "  C  C9  4  0.00470750  0.66532012  0.37612335  1\n",
      "  C  C10  4  0.01402274  0.23148403  0.45470045  1\n",
      "  C  C11  4  0.08643290  0.17158686  0.04719886  1\n",
      "  C  C12  4  0.14961594  0.63789425  0.06371476  1\n",
      "  C  C13  4  0.16607109  0.73960930  0.89317382  1\n",
      "  C  C14  4  0.23747598  0.64166052  0.98550157  1\n",
      "  C  C15  4  0.39919152  0.01722823  0.72242435  1\n",
      "  C  C16  4  0.41870361  0.10675211  0.82563609  1\n",
      "  N  N17  4  0.21212918  0.54327289  0.16013400  1\n",
      "  O  O18  4  0.05597976  0.06978984  0.21319720  1\n",
      "  O  O19  4  0.45389631  0.50223886  0.80239301  1\n"
     ]
    }
   ],
   "source": [
    "from CRYSTALpytools.convert import cry_gui2cif\n",
    "\n",
    "cry_gui2cif('conv_paracetamol.gui', 'conv_paracetamol.cif')\n",
    "! cat conv_paracetamol.cif"
   ]
  },
  {
   "cell_type": "markdown",
   "id": "3a0c577f-6da9-4739-a8ad-ddeb2e513ac8",
   "metadata": {},
   "source": [
    "### The 'cry_gui2xyz()' function\n",
    "\n",
    "Optional arguments can be put at the end, which will be passed to the [pymatgen.io.xyz.XYZ](https://pymatgen.org/pymatgen.io.html#pymatgen.io.xyz.XYZ) object."
   ]
  },
  {
   "cell_type": "code",
   "execution_count": 1,
   "id": "1b66ebe5-35b7-4952-9294-39af9021ca01",
   "metadata": {
    "tags": []
   },
   "outputs": [
    {
     "name": "stdout",
     "output_type": "stream",
     "text": [
      "13\n",
      "H8 C4 O1\n",
      "C 0.741332 2.117653 1.407777\n",
      "C 1.893667 3.049791 1.036298\n",
      "C 3.098124 2.139956 1.256255\n",
      "O 2.655667 0.819485 0.961776\n",
      "C 1.238012 0.791402 0.842854\n",
      "H 0.641873 2.054622 2.492302\n",
      "H -0.216641 2.420182 0.989685\n",
      "H 1.821281 3.336523 -0.013719\n",
      "H 1.934790 3.954421 1.639420\n",
      "H 3.942117 2.379091 0.609359\n",
      "H 3.435426 2.182677 2.296453\n",
      "H 0.965393 0.690877 -0.212497\n",
      "H 0.859259 -0.076681 1.382035"
     ]
    }
   ],
   "source": [
    "from CRYSTALpytools.convert import cry_gui2xyz\n",
    "\n",
    "cry_gui2xyz('conv_THF.gui', 'conv_THF.xyz')\n",
    "!cat conv_THF.xyz"
   ]
  },
  {
   "cell_type": "markdown",
   "id": "a5e048ef-1123-4dfb-a3ba-8bef2a52bd46",
   "metadata": {},
   "source": [
    "### The 'cry_out2xyz()' function\n",
    "\n",
    "Optional arguments can be put at the end, which will be passed to the [pymatgen.io.xyz.XYZ](https://pymatgen.org/pymatgen.io.html#pymatgen.io.xyz.XYZ) object."
   ]
  },
  {
   "cell_type": "code",
   "execution_count": 2,
   "id": "436dfecf-c641-4a09-abc7-81143f777986",
   "metadata": {},
   "outputs": [
    {
     "name": "stdout",
     "output_type": "stream",
     "text": [
      "15\n",
      "H8 C7\n",
      "C -0.984612 0.000163 0.014830\n",
      "C -0.270650 1.195597 0.011653\n",
      "C -0.270798 -1.195337 0.010052\n",
      "C -2.488953 0.000108 -0.002093\n",
      "C 1.117118 1.198581 -0.001608\n",
      "C 1.116957 -1.198632 -0.002841\n",
      "C 1.816634 -0.000078 -0.010182\n",
      "H -0.809924 2.135277 0.022707\n",
      "H -0.810214 -2.134972 0.020237\n",
      "H -2.888568 -0.880617 0.498531\n",
      "H -2.888737 0.885078 0.490855\n",
      "H -2.864355 -0.004536 -1.026829\n",
      "H 1.652616 2.138815 -0.002050\n",
      "H 1.652252 -2.138983 -0.003587\n",
      "H 2.898133 -0.000164 -0.017475"
     ]
    }
   ],
   "source": [
    "from CRYSTALpytools.convert import cry_out2xyz\n",
    "\n",
    "cry_out2xyz('conv_toluene.out', 'conv_toluene.xyz')\n",
    "!cat conv_toluene.xyz"
   ]
  },
  {
   "cell_type": "markdown",
   "id": "2c2859bc-a391-459d-9a20-5b261865ad9d",
   "metadata": {},
   "source": [
    "For more information please refer to the [API documentations](https://crystal-code-tools.github.io/CRYSTALpytools/crystalpytools.convert.html)."
   ]
  }
 ],
 "metadata": {
  "kernelspec": {
   "display_name": "crystal_py3.9",
   "language": "python",
   "name": "crystal_py3.9"
  },
  "language_info": {
   "codemirror_mode": {
    "name": "ipython",
    "version": 3
   },
   "file_extension": ".py",
   "mimetype": "text/x-python",
   "name": "python",
   "nbconvert_exporter": "python",
   "pygments_lexer": "ipython3",
   "version": "3.9.19"
  },
  "widgets": {
   "application/vnd.jupyter.widget-state+json": {
    "state": {},
    "version_major": 2,
    "version_minor": 0
   }
  }
 },
 "nbformat": 4,
 "nbformat_minor": 5
}
